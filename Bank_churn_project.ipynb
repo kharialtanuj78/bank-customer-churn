{
  "nbformat": 4,
  "nbformat_minor": 0,
  "metadata": {
    "colab": {
      "provenance": []
    },
    "kernelspec": {
      "name": "python3",
      "display_name": "Python 3"
    },
    "language_info": {
      "name": "python"
    }
  },
  "cells": [
    {
      "cell_type": "markdown",
      "source": [
        "**Title: Bank Churn Project**"
      ],
      "metadata": {
        "id": "DFvUc5oshuEX"
      }
    },
    {
      "cell_type": "markdown",
      "source": [
        "**Objective:** Bank Customer Churn Prediction Using Machine Learning and Understating Data Encoding, Feature Scaling, Handling Imblance Data, Support Vector Machine Classifier, Grid Search for Hyperparameter Tunning"
      ],
      "metadata": {
        "id": "rvqSQrGkh9R1"
      }
    },
    {
      "cell_type": "markdown",
      "source": [
        "Data Source: YBI Foundation"
      ],
      "metadata": {
        "id": "W0QQclM7idqq"
      }
    },
    {
      "cell_type": "markdown",
      "source": [
        "**Import Library**"
      ],
      "metadata": {
        "id": "Qvv5_KTWii01"
      }
    },
    {
      "cell_type": "code",
      "execution_count": 117,
      "metadata": {
        "id": "hahJuCxcG_V3"
      },
      "outputs": [],
      "source": [
        "import pandas as pd\n",
        "import numpy as np\n",
        "import matplotlib.pyplot as plt\n",
        "import seaborn as sns"
      ]
    },
    {
      "cell_type": "markdown",
      "source": [
        "**Data Presprocessing Start**"
      ],
      "metadata": {
        "id": "EjjJpktoopeH"
      }
    },
    {
      "cell_type": "markdown",
      "source": [
        "**Import Data**"
      ],
      "metadata": {
        "id": "hYUOjQs-imvq"
      }
    },
    {
      "cell_type": "code",
      "source": [
        "df = pd.read_csv('https://github.com/YBI-Foundation/Dataset/raw/main/Bank%20Churn%20Modelling.csv')"
      ],
      "metadata": {
        "id": "xNPXNOYFHXz0"
      },
      "execution_count": 118,
      "outputs": []
    },
    {
      "cell_type": "markdown",
      "source": [
        "**Describe Data**"
      ],
      "metadata": {
        "id": "RiaQYBHeiqvr"
      }
    },
    {
      "cell_type": "code",
      "source": [
        "df.head()"
      ],
      "metadata": {
        "id": "4iHEFKgzHYLV"
      },
      "execution_count": 206,
      "outputs": []
    },
    {
      "cell_type": "code",
      "source": [
        "df.info()"
      ],
      "metadata": {
        "id": "WdCIMtAeHYPX"
      },
      "execution_count": 205,
      "outputs": []
    },
    {
      "cell_type": "code",
      "source": [
        "df.duplicated('CustomerId').sum()"
      ],
      "metadata": {
        "id": "r0P4mgZ0HYSE"
      },
      "execution_count": 207,
      "outputs": []
    },
    {
      "cell_type": "code",
      "source": [
        "df = df.set_index('CustomerId')"
      ],
      "metadata": {
        "id": "8sx1CC4LHYW7"
      },
      "execution_count": 122,
      "outputs": []
    },
    {
      "cell_type": "code",
      "source": [
        "df.info()"
      ],
      "metadata": {
        "id": "xL4EYWbiHYZj"
      },
      "execution_count": 123,
      "outputs": []
    },
    {
      "cell_type": "markdown",
      "source": [
        "**Describe data**"
      ],
      "metadata": {
        "id": "asYxpZVUoOOM"
      }
    },
    {
      "cell_type": "code",
      "source": [
        "df['Geography'].value_counts()"
      ],
      "metadata": {
        "id": "3Xo7pRahHYbA"
      },
      "execution_count": 124,
      "outputs": []
    },
    {
      "cell_type": "code",
      "source": [
        "df.replace({'Geography': {'France': 2, 'Germany': 1, 'Spain': 0}}, inplace = True)"
      ],
      "metadata": {
        "id": "XoOUwrPWITgG"
      },
      "execution_count": 125,
      "outputs": []
    },
    {
      "cell_type": "code",
      "source": [
        "df['Gender'].value_counts()"
      ],
      "metadata": {
        "id": "GTMU9xxgITjc"
      },
      "execution_count": 126,
      "outputs": []
    },
    {
      "cell_type": "code",
      "source": [
        "df.replace({'Gender': {'Male': 0, 'Female': 1}}, inplace = True)"
      ],
      "metadata": {
        "id": "nZuE7AlkITmh"
      },
      "execution_count": 127,
      "outputs": []
    },
    {
      "cell_type": "code",
      "source": [
        "df['Num Of Products'].value_counts()"
      ],
      "metadata": {
        "id": "5aZSTduQITpd"
      },
      "execution_count": 128,
      "outputs": []
    },
    {
      "cell_type": "code",
      "source": [
        "df.replace({'Num of Products': {1:0, 2:1, 3:1, 4:1}}, inplace = True)"
      ],
      "metadata": {
        "id": "4NrkMsaTITsP"
      },
      "execution_count": 129,
      "outputs": []
    },
    {
      "cell_type": "code",
      "source": [
        "df['Has Credit Card'].value_counts()"
      ],
      "metadata": {
        "id": "oL-GtvG5ITvD"
      },
      "execution_count": 130,
      "outputs": []
    },
    {
      "cell_type": "code",
      "source": [
        "df['Is Active Member'].value_counts()"
      ],
      "metadata": {
        "id": "Xvomw7-FITyN"
      },
      "execution_count": 131,
      "outputs": []
    },
    {
      "cell_type": "code",
      "source": [
        "df.loc[(df['Balance']==0), 'Churn'].value_counts()"
      ],
      "metadata": {
        "id": "aJZim6rvIT1H"
      },
      "execution_count": 132,
      "outputs": []
    },
    {
      "cell_type": "code",
      "source": [
        "df['Zero Balance'] = np.where(df['Balance']>0, 1, 0)"
      ],
      "metadata": {
        "id": "smHA4JMKIT3S"
      },
      "execution_count": 133,
      "outputs": []
    },
    {
      "cell_type": "markdown",
      "source": [
        "**Data Visualiztion**"
      ],
      "metadata": {
        "id": "64gyCQFnoZQK"
      }
    },
    {
      "cell_type": "code",
      "source": [
        "df['Zero Balance'].hist()"
      ],
      "metadata": {
        "id": "9Q5qKeKZIT6C"
      },
      "execution_count": 134,
      "outputs": []
    },
    {
      "cell_type": "code",
      "source": [
        "df.groupby(['Churn', 'Geography']).count()"
      ],
      "metadata": {
        "id": "G_jc5XOQIT8x"
      },
      "execution_count": 135,
      "outputs": []
    },
    {
      "cell_type": "markdown",
      "source": [
        "Define Target Variable and Feature Variables"
      ],
      "metadata": {
        "id": "GSd8tbKxNmW4"
      }
    },
    {
      "cell_type": "code",
      "source": [
        "df.columns"
      ],
      "metadata": {
        "id": "Ykkuw_vbLCrE"
      },
      "execution_count": 136,
      "outputs": []
    },
    {
      "cell_type": "code",
      "source": [
        "x = df.drop(['Surname', 'Churn'], axis = 1)"
      ],
      "metadata": {
        "id": "P9_99SGiLCt0"
      },
      "execution_count": 137,
      "outputs": []
    },
    {
      "cell_type": "code",
      "source": [
        "y = df['Churn']"
      ],
      "metadata": {
        "id": "TVoYSzRNLCwz"
      },
      "execution_count": 138,
      "outputs": []
    },
    {
      "cell_type": "code",
      "source": [
        "x.shape, y.shape"
      ],
      "metadata": {
        "id": "OzXXfeTTLCzl"
      },
      "execution_count": 139,
      "outputs": []
    },
    {
      "cell_type": "code",
      "source": [
        "df['Churn'].value_counts()"
      ],
      "metadata": {
        "id": "-y1CpxUVLC2U"
      },
      "execution_count": 140,
      "outputs": []
    },
    {
      "cell_type": "code",
      "source": [
        "sns.countplot(x = 'Churn', data = df)"
      ],
      "metadata": {
        "id": "e1Y4oSzfLC7v"
      },
      "execution_count": 141,
      "outputs": []
    },
    {
      "cell_type": "code",
      "source": [
        "x.shape, y.shape"
      ],
      "metadata": {
        "id": "7NJbq6hALC9q"
      },
      "execution_count": 142,
      "outputs": []
    },
    {
      "cell_type": "markdown",
      "source": [
        "**Data Preprocessing Ends**"
      ],
      "metadata": {
        "id": "N-pIj3Yqo1AE"
      }
    },
    {
      "cell_type": "markdown",
      "source": [
        "Random under sampling\n"
      ],
      "metadata": {
        "id": "VVyTvxHBNUof"
      }
    },
    {
      "cell_type": "code",
      "source": [
        "from imblearn.under_sampling import RandomUnderSampler"
      ],
      "metadata": {
        "id": "0bQ0C0sNLC_X"
      },
      "execution_count": 143,
      "outputs": []
    },
    {
      "cell_type": "code",
      "source": [
        "rus = RandomUnderSampler(random_state = 2529)"
      ],
      "metadata": {
        "id": "E5Gfv2ZELDCn"
      },
      "execution_count": 144,
      "outputs": []
    },
    {
      "cell_type": "code",
      "source": [
        "x_rus , y_rus = rus.fit_resample(x, y);"
      ],
      "metadata": {
        "id": "i2fLlzCWOfes"
      },
      "execution_count": 145,
      "outputs": []
    },
    {
      "cell_type": "code",
      "source": [
        "x_rus.shape, y_rus.shape, x.shape, y.shape"
      ],
      "metadata": {
        "id": "H5ENl1XdLDgI"
      },
      "execution_count": 146,
      "outputs": []
    },
    {
      "cell_type": "code",
      "source": [
        "y.value_counts()"
      ],
      "metadata": {
        "id": "Y4hMt2mcLDjR"
      },
      "execution_count": 147,
      "outputs": []
    },
    {
      "cell_type": "code",
      "source": [
        "y_rus.value_counts()"
      ],
      "metadata": {
        "id": "SymmN1vZLDmz"
      },
      "execution_count": 148,
      "outputs": []
    },
    {
      "cell_type": "code",
      "source": [
        "y_rus.plot(kind = 'hist')"
      ],
      "metadata": {
        "id": "MTDH2naJIUAC"
      },
      "execution_count": 149,
      "outputs": []
    },
    {
      "cell_type": "markdown",
      "source": [
        "Random Over Sampling"
      ],
      "metadata": {
        "id": "1ZJxgoZKPKDl"
      }
    },
    {
      "cell_type": "code",
      "source": [
        "from imblearn.over_sampling import RandomOverSampler"
      ],
      "metadata": {
        "id": "irtOVcesHYgH"
      },
      "execution_count": 150,
      "outputs": []
    },
    {
      "cell_type": "code",
      "source": [
        "ros = RandomOverSampler(random_state = 2529)"
      ],
      "metadata": {
        "id": "gC3t8L4BPHW1"
      },
      "execution_count": 151,
      "outputs": []
    },
    {
      "cell_type": "code",
      "source": [
        "x_ros, y_ros = ros.fit_resample(x,y)"
      ],
      "metadata": {
        "id": "u2pTa21cPHZm"
      },
      "execution_count": 152,
      "outputs": []
    },
    {
      "cell_type": "code",
      "source": [
        "x_ros.shape, y_ros.shape, x.shape, y.shape"
      ],
      "metadata": {
        "id": "nS3ER29LPHcg"
      },
      "execution_count": 153,
      "outputs": []
    },
    {
      "cell_type": "code",
      "source": [
        "y.value_counts()"
      ],
      "metadata": {
        "id": "NzPKBO1SPHfX"
      },
      "execution_count": 154,
      "outputs": []
    },
    {
      "cell_type": "code",
      "source": [
        "y_ros.value_counts()"
      ],
      "metadata": {
        "id": "vPjGs8jdPHiO"
      },
      "execution_count": 155,
      "outputs": []
    },
    {
      "cell_type": "code",
      "source": [
        "y_ros.plot(kind = 'hist')"
      ],
      "metadata": {
        "id": "YfoP-cXwPHnK"
      },
      "execution_count": 156,
      "outputs": []
    },
    {
      "cell_type": "markdown",
      "source": [
        "Train Test Split"
      ],
      "metadata": {
        "id": "5frL44isQVoD"
      }
    },
    {
      "cell_type": "code",
      "source": [
        "from sklearn.model_selection import train_test_split"
      ],
      "metadata": {
        "id": "PArbZT5UQWty"
      },
      "execution_count": 157,
      "outputs": []
    },
    {
      "cell_type": "code",
      "source": [
        "x_train, x_test, y_train, y_test = train_test_split(x, y, test_size = 0.3, random_state = 2539)"
      ],
      "metadata": {
        "id": "xJUT1Bl1HYh4"
      },
      "execution_count": 158,
      "outputs": []
    },
    {
      "cell_type": "code",
      "source": [
        "x_train_rus, x_test_rus, y_train_rus, y_test_rus = train_test_split(x_rus, y_rus, test_size = 0.3, random_state = 2539)"
      ],
      "metadata": {
        "id": "7xKX9OtLQQ14"
      },
      "execution_count": 159,
      "outputs": []
    },
    {
      "cell_type": "code",
      "source": [
        "x_train_ros, x_test_ros, y_train_ros, y_test_ros = train_test_split(x_ros, y_ros, test_size = 0.3, random_state = 2539)"
      ],
      "metadata": {
        "id": "lrfbcC9kQQ5X"
      },
      "execution_count": 160,
      "outputs": []
    },
    {
      "cell_type": "markdown",
      "source": [
        "Standardize Features"
      ],
      "metadata": {
        "id": "wn9fybbRRrEo"
      }
    },
    {
      "cell_type": "code",
      "source": [
        "from sklearn.preprocessing import StandardScaler"
      ],
      "metadata": {
        "id": "ybAJcMeLQQ8S"
      },
      "execution_count": 161,
      "outputs": []
    },
    {
      "cell_type": "code",
      "source": [
        "sc = StandardScaler()"
      ],
      "metadata": {
        "id": "yPWTkDtrQQ-5"
      },
      "execution_count": 162,
      "outputs": []
    },
    {
      "cell_type": "code",
      "source": [
        "x_train[['CreditScore', 'Age', 'Tenure', 'Balance', 'Estimated Salary']] = sc.fit_transform(x_train[['CreditScore', 'Age', 'Tenure', 'Balance', 'Estimated Salary' ]])"
      ],
      "metadata": {
        "id": "8s9ZEKW1QRBo"
      },
      "execution_count": 163,
      "outputs": []
    },
    {
      "cell_type": "code",
      "source": [
        "x_test[['CreditScore', 'Age', 'Tenure', 'Balance', 'Estimated Salary']] = sc.fit_transform(x_test[['CreditScore', 'Age', 'Tenure', 'Balance', 'Estimated Salary' ]])"
      ],
      "metadata": {
        "id": "zkPMDAlpQREb"
      },
      "execution_count": 164,
      "outputs": []
    },
    {
      "cell_type": "code",
      "source": [
        "x_train_rus[['CreditScore', 'Age', 'Tenure', 'Balance', 'Estimated Salary']] = sc.fit_transform(x_train_rus[['CreditScore', 'Age', 'Tenure', 'Balance', 'Estimated Salary' ]])"
      ],
      "metadata": {
        "id": "06U8FyPMQRHf"
      },
      "execution_count": 165,
      "outputs": []
    },
    {
      "cell_type": "code",
      "source": [
        "x_test_rus[['CreditScore', 'Age', 'Tenure', 'Balance', 'Estimated Salary']] = sc.fit_transform(x_test_rus[['CreditScore', 'Age', 'Tenure', 'Balance', 'Estimated Salary' ]])"
      ],
      "metadata": {
        "id": "biPx1EAsQRKs"
      },
      "execution_count": 166,
      "outputs": []
    },
    {
      "cell_type": "code",
      "source": [
        "x_train_ros[['CreditScore', 'Age', 'Tenure', 'Balance', 'Estimated Salary']] = sc.fit_transform(x_train_ros[['CreditScore', 'Age', 'Tenure', 'Balance', 'Estimated Salary' ]])"
      ],
      "metadata": {
        "id": "M1GXlvwlQRM3"
      },
      "execution_count": 167,
      "outputs": []
    },
    {
      "cell_type": "code",
      "source": [
        "x_test_ros[['CreditScore', 'Age', 'Tenure', 'Balance', 'Estimated Salary']] = sc.fit_transform(x_test_ros[['CreditScore', 'Age', 'Tenure', 'Balance', 'Estimated Salary' ]])"
      ],
      "metadata": {
        "id": "RQqswBeGQRPx"
      },
      "execution_count": 168,
      "outputs": []
    },
    {
      "cell_type": "markdown",
      "source": [
        "Support Vector Machine Classifier"
      ],
      "metadata": {
        "id": "iwMH1r5DUz6t"
      }
    },
    {
      "cell_type": "code",
      "source": [
        "from sklearn.svm import SVC"
      ],
      "metadata": {
        "id": "nnU-nLyBQRSn"
      },
      "execution_count": 169,
      "outputs": []
    },
    {
      "cell_type": "code",
      "source": [
        "svc = SVC()"
      ],
      "metadata": {
        "id": "QHt-50BZQRWm"
      },
      "execution_count": 170,
      "outputs": []
    },
    {
      "cell_type": "code",
      "source": [
        "svc.fit(x_train, y_train)"
      ],
      "metadata": {
        "id": "bWB5K_07QRZN"
      },
      "execution_count": 171,
      "outputs": []
    },
    {
      "cell_type": "code",
      "source": [
        "y_pred = svc.predict(x_test)"
      ],
      "metadata": {
        "id": "8RM-XOTXHYjd"
      },
      "execution_count": 172,
      "outputs": []
    },
    {
      "cell_type": "markdown",
      "source": [
        "**Model** **Evalution** **&** **Accuracy**"
      ],
      "metadata": {
        "id": "MMPhRoMDWNjd"
      }
    },
    {
      "cell_type": "code",
      "source": [
        "from sklearn.metrics import confusion_matrix, classification_report"
      ],
      "metadata": {
        "id": "YWK9AuB4VRbv"
      },
      "execution_count": 173,
      "outputs": []
    },
    {
      "cell_type": "code",
      "source": [
        "confusion_matrix(y_test, y_pred)"
      ],
      "metadata": {
        "id": "f0vYPecQVReM"
      },
      "execution_count": 174,
      "outputs": []
    },
    {
      "cell_type": "code",
      "source": [
        "print(classification_report(y_test, y_pred))"
      ],
      "metadata": {
        "id": "4sQwAb_YVRhw"
      },
      "execution_count": 175,
      "outputs": []
    },
    {
      "cell_type": "markdown",
      "source": [
        "Hyperparameter Tunning"
      ],
      "metadata": {
        "id": "VcNco3yAXt2T"
      }
    },
    {
      "cell_type": "code",
      "source": [
        "from sklearn.model_selection import GridSearchCV"
      ],
      "metadata": {
        "id": "vRM5eiFGVRkR"
      },
      "execution_count": 176,
      "outputs": []
    },
    {
      "cell_type": "code",
      "source": [
        "param_grid = {'C': [0.1,1,10], 'gamma':[1,0.1,0.01], 'kernel': ['rbf'], 'class_weight': ['balanced']}"
      ],
      "metadata": {
        "id": "E0e-B7V0VRok"
      },
      "execution_count": 177,
      "outputs": []
    },
    {
      "cell_type": "code",
      "source": [
        "grid = GridSearchCV(SVC(),param_grid, refit = True, verbose = 2, cv = 2 )\n",
        "grid.fit(x_train, y_train)"
      ],
      "metadata": {
        "id": "cGwuKUlbVRrT"
      },
      "execution_count": 178,
      "outputs": []
    },
    {
      "cell_type": "code",
      "source": [
        "print(grid.best_estimator_)"
      ],
      "metadata": {
        "id": "5mJ9DxrgVSCu"
      },
      "execution_count": 179,
      "outputs": []
    },
    {
      "cell_type": "code",
      "source": [
        "grid_predictions = grid.predict(x_test)"
      ],
      "metadata": {
        "id": "bn2rDQ7oVSFP"
      },
      "execution_count": 180,
      "outputs": []
    },
    {
      "cell_type": "code",
      "source": [
        "confusion_matrix(y_test, grid_predictions)"
      ],
      "metadata": {
        "id": "YC43tnW-VSHa"
      },
      "execution_count": 181,
      "outputs": []
    },
    {
      "cell_type": "markdown",
      "source": [
        "**Prediction**"
      ],
      "metadata": {
        "id": "pbVOW0ZmjD_m"
      }
    },
    {
      "cell_type": "code",
      "source": [
        "print(classification_report(y_test, grid_predictions))"
      ],
      "metadata": {
        "id": "l3JoveW9ZSzV"
      },
      "execution_count": 182,
      "outputs": []
    },
    {
      "cell_type": "markdown",
      "source": [
        "Model with Random Under Sampling"
      ],
      "metadata": {
        "id": "x9-PNvRzZvZI"
      }
    },
    {
      "cell_type": "code",
      "source": [
        "svc_rus = SVC()"
      ],
      "metadata": {
        "id": "RuPQMhHQZSwU"
      },
      "execution_count": 183,
      "outputs": []
    },
    {
      "cell_type": "code",
      "source": [
        "svc_rus.fit(x_train_rus, y_train_rus)"
      ],
      "metadata": {
        "id": "xeKqgsgzZSt1"
      },
      "execution_count": 184,
      "outputs": []
    },
    {
      "cell_type": "code",
      "source": [
        "y_pred_rus = svc_rus.predict(x_test_rus)"
      ],
      "metadata": {
        "id": "lSOCD_HiZSrS"
      },
      "execution_count": 185,
      "outputs": []
    },
    {
      "cell_type": "code",
      "source": [
        "confusion_matrix(y_test_rus, y_pred_rus)"
      ],
      "metadata": {
        "id": "b6Q86l-VZSof"
      },
      "execution_count": 186,
      "outputs": []
    },
    {
      "cell_type": "code",
      "source": [
        "print(classification_report(y_test_rus, y_pred_rus))"
      ],
      "metadata": {
        "id": "c9HfxzJCZSl7"
      },
      "execution_count": 187,
      "outputs": []
    },
    {
      "cell_type": "code",
      "source": [
        "param_grid = {'C': [0.1,1,10], 'gamma':[1,0.1,0.01], 'kernel': ['rbf'], 'class_weight': ['balanced']}"
      ],
      "metadata": {
        "id": "ALTZr4ExZSjI"
      },
      "execution_count": 188,
      "outputs": []
    },
    {
      "cell_type": "code",
      "source": [
        "grid_rus = GridSearchCV(SVC(),param_grid, refit = True, verbose = 2, cv = 2 )\n",
        "grid_rus.fit(x_train_rus, y_train_rus)"
      ],
      "metadata": {
        "id": "-I-EoI-PZSeo"
      },
      "execution_count": 189,
      "outputs": []
    },
    {
      "cell_type": "code",
      "source": [
        "print(grid_rus.best_estimator_)"
      ],
      "metadata": {
        "id": "rv8SNJI_ZSbt"
      },
      "execution_count": 190,
      "outputs": []
    },
    {
      "cell_type": "code",
      "source": [
        "grid_predictions_rus = grid_rus.predict(x_test_rus)"
      ],
      "metadata": {
        "id": "5r_gvENFZSYk"
      },
      "execution_count": 191,
      "outputs": []
    },
    {
      "cell_type": "code",
      "source": [
        "confusion_matrix(y_test_rus, grid_predictions_rus)"
      ],
      "metadata": {
        "id": "WfqcI7PvZSSx"
      },
      "execution_count": 192,
      "outputs": []
    },
    {
      "cell_type": "markdown",
      "source": [
        "**Prediction**"
      ],
      "metadata": {
        "id": "NzWwLUVApImA"
      }
    },
    {
      "cell_type": "code",
      "source": [
        "print(classification_report(y_test_rus, grid_predictions_rus))"
      ],
      "metadata": {
        "id": "XyJT0fSpZSPe"
      },
      "execution_count": 193,
      "outputs": []
    },
    {
      "cell_type": "markdown",
      "source": [
        "Model with Random Over Sampling"
      ],
      "metadata": {
        "id": "F9tY7g_xcGHr"
      }
    },
    {
      "cell_type": "code",
      "source": [
        "svc_ros = SVC()"
      ],
      "metadata": {
        "id": "QwiIMaZhZSKr"
      },
      "execution_count": 194,
      "outputs": []
    },
    {
      "cell_type": "code",
      "source": [
        "svc_ros.fit(x_train_ros, y_train_ros)"
      ],
      "metadata": {
        "id": "bULVRXBAcC3k"
      },
      "execution_count": 195,
      "outputs": []
    },
    {
      "cell_type": "code",
      "source": [
        "y_pred_ros = svc_ros.predict(x_test_ros)"
      ],
      "metadata": {
        "id": "h4BFs9_HcC7y"
      },
      "execution_count": 196,
      "outputs": []
    },
    {
      "cell_type": "code",
      "source": [
        "confusion_matrix(y_test_ros, y_pred_ros)"
      ],
      "metadata": {
        "id": "hXse4oMvcC_K"
      },
      "execution_count": 197,
      "outputs": []
    },
    {
      "cell_type": "code",
      "source": [
        "print(classification_report(y_test_ros, y_pred_ros))"
      ],
      "metadata": {
        "id": "oUJbtH84cDCm"
      },
      "execution_count": 198,
      "outputs": []
    },
    {
      "cell_type": "code",
      "source": [
        "param_grid = {'C': [0.1,1,10], 'gamma':[1,0.1,0.01], 'kernel': ['rbf'], 'class_weight': ['balanced']}"
      ],
      "metadata": {
        "id": "cmdAMP4VcDFb"
      },
      "execution_count": 199,
      "outputs": []
    },
    {
      "cell_type": "code",
      "source": [
        "grid_ros = GridSearchCV(SVC(),param_grid, refit = True, verbose = 2, cv = 2 )\n",
        "grid_ros.fit(x_train_ros, y_train_ros)"
      ],
      "metadata": {
        "id": "QsAcpMc7cDIh"
      },
      "execution_count": 200,
      "outputs": []
    },
    {
      "cell_type": "code",
      "source": [
        "print(grid_ros.best_estimator_)"
      ],
      "metadata": {
        "id": "w36Fsn_hcDL4"
      },
      "execution_count": 201,
      "outputs": []
    },
    {
      "cell_type": "code",
      "source": [
        "grid_predictions_ros = grid_ros.predict(x_test_ros)"
      ],
      "metadata": {
        "id": "j_IRm6zXcDPE"
      },
      "execution_count": 202,
      "outputs": []
    },
    {
      "cell_type": "code",
      "source": [
        "confusion_matrix(y_test_ros, grid_predictions_ros)"
      ],
      "metadata": {
        "id": "nqf-QMz7cDTf"
      },
      "execution_count": 203,
      "outputs": []
    },
    {
      "cell_type": "markdown",
      "source": [
        "**Prediction**"
      ],
      "metadata": {
        "id": "m_Ra50RmpOmv"
      }
    },
    {
      "cell_type": "code",
      "source": [
        "print(classification_report(y_test_ros, grid_predictions_ros))"
      ],
      "metadata": {
        "id": "AR9Rm9F2cDYO"
      },
      "execution_count": 204,
      "outputs": []
    },
    {
      "cell_type": "markdown",
      "source": [
        "**Explanation**"
      ],
      "metadata": {
        "id": "HMdNMNuupU_z"
      }
    },
    {
      "cell_type": "markdown",
      "source": [
        "In this project we use the Hyperparameter Tunning for getting the more accurate results as in our previous model the prediction of churn is less. So we use it and get better results."
      ],
      "metadata": {
        "id": "80M8SyfPpaib"
      }
    }
  ]
}